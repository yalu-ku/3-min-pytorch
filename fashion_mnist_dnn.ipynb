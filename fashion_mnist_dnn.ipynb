{
 "cells": [
  {
   "cell_type": "code",
   "execution_count": 45,
   "id": "12d0345f",
   "metadata": {},
   "outputs": [],
   "source": [
    "import torch\n",
    "import torch.nn as nn # 인공신경망 모델의 재료들을 담고 있음\n",
    "import torch.optim as optim # 최적화를 위해\n",
    "import torch.nn.functional as F # nn 모듈의 함수 버전\n",
    "from torchvision import transforms, datasets"
   ]
  },
  {
   "cell_type": "code",
   "execution_count": 46,
   "id": "77b12323",
   "metadata": {},
   "outputs": [
    {
     "name": "stdout",
     "output_type": "stream",
     "text": [
      "cuda\n"
     ]
    }
   ],
   "source": [
    "USE_CUDA = torch.cuda.is_available()\n",
    "DEVICE = torch.device('cuda' if USE_CUDA else 'cpu')\n",
    "print(DEVICE)"
   ]
  },
  {
   "cell_type": "code",
   "execution_count": 47,
   "id": "556cf628",
   "metadata": {},
   "outputs": [],
   "source": [
    "EPOCHS = 30\n",
    "BATCH_SIZE = 64"
   ]
  },
  {
   "cell_type": "code",
   "execution_count": 48,
   "id": "e3db7b66",
   "metadata": {},
   "outputs": [],
   "source": [
    "transform = transforms.Compose([\n",
    "    transforms.ToTensor()\n",
    "])"
   ]
  },
  {
   "cell_type": "code",
   "execution_count": 49,
   "id": "e8d18db3",
   "metadata": {},
   "outputs": [],
   "source": [
    "trainset = datasets.FashionMNIST(\n",
    "    root = './.data/',\n",
    "    train = True,\n",
    "    download = True, \n",
    "    transform = transform\n",
    ")\n",
    "\n",
    "testset = datasets.FashionMNIST(\n",
    "    root = './.data/',\n",
    "    train = False,\n",
    "    download = True,\n",
    "    transform = transform\n",
    ")"
   ]
  },
  {
   "cell_type": "code",
   "execution_count": 60,
   "id": "0abd455d",
   "metadata": {},
   "outputs": [],
   "source": [
    "train_loader = torch.utils.data.DataLoader(\n",
    "    dataset = trainset,\n",
    "    batch_size = BATCH_SIZE,\n",
    "    shuffle = True,\n",
    ")\n",
    "test_loader = torch.utils.data.DataLoader(\n",
    "    dataset = testset,\n",
    "    batch_size = BATCH_SIZE,\n",
    "    shuffle = True,\n",
    ")"
   ]
  },
  {
   "cell_type": "code",
   "execution_count": 74,
   "id": "bd44f41f",
   "metadata": {},
   "outputs": [],
   "source": [
    "## 모델의 가중치 변수들이 들어가는 연선을 선언\n",
    "## nn.Linear 클래스는 선형결합을 수행하는 객체를 만듦\n",
    "## 픽셀값을 입력받아 가중치를 행렬곱하고 편향을 더해 출력\n",
    "class Net(nn.Module):\n",
    "    def __init__(self):\n",
    "        super(Net, self).__init__()\n",
    "        self.fc1 = nn.Linear(784, 256) #(픽셀값, 편향)\n",
    "        self.fc2 = nn.Linear(256, 128)\n",
    "        self.fc3 = nn.Linear(128, 10) #출력값 10개 -> 10개 중 값이 가장 큰 클래스가 이 모델의 예측값.\n",
    "        \n",
    "    # 자세한 흐름은 forward() 함수에 정의     \n",
    "    def forward(self, x):\n",
    "        x = x.view(-1, 784)\n",
    "        x = F.relu(self.fc1(x))\n",
    "        x = F.relu(self.fc2(x))\n",
    "        x = self.fc3(x)\n",
    "        return x"
   ]
  },
  {
   "cell_type": "code",
   "execution_count": 82,
   "id": "fec7c00e",
   "metadata": {},
   "outputs": [],
   "source": [
    "model = Net().to(DEVICE) # 모델의 파라미터를 DEVICE로"
   ]
  },
  {
   "cell_type": "code",
   "execution_count": 83,
   "id": "c9195525",
   "metadata": {},
   "outputs": [],
   "source": [
    "optimizer = optim.SGD(model.parameters(), lr=0.01)"
   ]
  },
  {
   "cell_type": "code",
   "execution_count": 84,
   "id": "f771ecc2",
   "metadata": {},
   "outputs": [],
   "source": [
    "# 학습에 들어가는 모든 연산 (학습할 model, 데이터를 공급, 최적화)\n",
    "def train(model, train_loader, optimizer):\n",
    "    model.train() # 습관 들이기\n",
    "    for batch_idx, (data, target) in enumerate(train_loader):\n",
    "        # 학습 데이터를 DEVICE의 메모리로 보냄\n",
    "        data, target = data.to(DEVICE), target.to(DEVICE)\n",
    "        optimizer.zero_grad() # 반복때마다 기울기를 새로 계산\n",
    "        # 위 호출 후 학습 데이터에 대한 모델의 예측값인 output 받아옴\n",
    "        output = model(data)\n",
    "        # output과 레이블인 target의 오차를 구해야 함!\n",
    "        loss = F.cross_entropy(output, target)\n",
    "        loss.backward()\n",
    "        optimizer.step()\n",
    "        "
   ]
  },
  {
   "cell_type": "code",
   "execution_count": 85,
   "id": "659ee83c",
   "metadata": {},
   "outputs": [],
   "source": [
    "#\n",
    "def evaluate(model, test_loader):\n",
    "    model.eval()\n",
    "    test_loss = 0\n",
    "    correct = 0\n",
    "    # 평가 가정에서는 기울기를 구하지 않는다.\n",
    "    with torch.no_grad():\n",
    "        for data, target in test_loader:\n",
    "            data, target = data.to(DEVICE), target.to(DEVICE)\n",
    "            output = model(data)\n",
    "            \n",
    "            test_loss += F.cross_entropy(output, target, reduction='sum').item() # item() : 1개의 값을 가진 텐서 값을 가져오는 함수\n",
    "            \n",
    "            # 가장 큰 값을 가진 클래스가 모델의 예측\n",
    "            # 예측과 정답을 비교하여 일치할 경우 correct에 1을 더함\n",
    "            pred = output.max(1, keepdim=True)[1]\n",
    "            correct += pred.eq(target.view_as(pred)).sum().item()\n",
    "\n",
    "    test_loss /= len(test_loader.dataset)\n",
    "    test_accuracy = 100. * correct / len(test_loader.dataset)\n",
    "    return test_loss, test_accuracy\n"
   ]
  },
  {
   "cell_type": "code",
   "execution_count": 86,
   "id": "135c8000",
   "metadata": {},
   "outputs": [
    {
     "name": "stdout",
     "output_type": "stream",
     "text": [
      "[1] Test loss: 0.8476, Accuracy: 68.54%\n",
      "[2] Test loss: 0.6719, Accuracy: 76.15%\n",
      "[3] Test loss: 0.5890, Accuracy: 78.98%\n",
      "[4] Test loss: 0.5390, Accuracy: 80.65%\n",
      "[5] Test loss: 0.5092, Accuracy: 82.20%\n",
      "[6] Test loss: 0.5054, Accuracy: 81.85%\n",
      "[7] Test loss: 0.5080, Accuracy: 81.75%\n",
      "[8] Test loss: 0.4928, Accuracy: 82.71%\n",
      "[9] Test loss: 0.4664, Accuracy: 83.27%\n",
      "[10] Test loss: 0.4732, Accuracy: 82.79%\n",
      "[11] Test loss: 0.4451, Accuracy: 84.10%\n",
      "[12] Test loss: 0.4496, Accuracy: 83.67%\n",
      "[13] Test loss: 0.4549, Accuracy: 84.16%\n",
      "[14] Test loss: 0.4251, Accuracy: 85.18%\n",
      "[15] Test loss: 0.4252, Accuracy: 85.01%\n",
      "[16] Test loss: 0.4270, Accuracy: 84.98%\n",
      "[17] Test loss: 0.4131, Accuracy: 85.50%\n",
      "[18] Test loss: 0.4289, Accuracy: 84.65%\n",
      "[19] Test loss: 0.4137, Accuracy: 85.38%\n",
      "[20] Test loss: 0.4016, Accuracy: 85.83%\n",
      "[21] Test loss: 0.4193, Accuracy: 85.37%\n",
      "[22] Test loss: 0.3908, Accuracy: 86.22%\n",
      "[23] Test loss: 0.3922, Accuracy: 86.17%\n",
      "[24] Test loss: 0.3944, Accuracy: 86.00%\n",
      "[25] Test loss: 0.3838, Accuracy: 86.33%\n",
      "[26] Test loss: 0.3856, Accuracy: 86.25%\n",
      "[27] Test loss: 0.3917, Accuracy: 85.70%\n",
      "[28] Test loss: 0.4255, Accuracy: 84.97%\n",
      "[29] Test loss: 0.4037, Accuracy: 85.55%\n",
      "[30] Test loss: 0.3725, Accuracy: 86.74%\n"
     ]
    }
   ],
   "source": [
    "for epoch in range(1, EPOCHS + 1):\n",
    "    train(model, train_loader, optimizer)\n",
    "    test_loss, test_accuracy = evaluate(model, test_loader)\n",
    "    print('[{}] Test loss: {:.4f}, Accuracy: {:.2f}%'.format(\n",
    "        epoch, test_loss, test_accuracy))"
   ]
  }
 ],
 "metadata": {
  "kernelspec": {
   "display_name": "Python 3",
   "language": "python",
   "name": "python3"
  },
  "language_info": {
   "codemirror_mode": {
    "name": "ipython",
    "version": 3
   },
   "file_extension": ".py",
   "mimetype": "text/x-python",
   "name": "python",
   "nbconvert_exporter": "python",
   "pygments_lexer": "ipython3",
   "version": "3.8.8"
  }
 },
 "nbformat": 4,
 "nbformat_minor": 5
}
