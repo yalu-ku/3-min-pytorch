{
 "cells": [
  {
   "cell_type": "code",
   "execution_count": 1,
   "id": "a94b047a",
   "metadata": {},
   "outputs": [],
   "source": [
    "import torch"
   ]
  },
  {
   "cell_type": "code",
   "execution_count": 3,
   "id": "cd9757cc",
   "metadata": {},
   "outputs": [
    {
     "name": "stdout",
     "output_type": "stream",
     "text": [
      "w size: torch.Size([5, 3])\n",
      "x size: torch.Size([3, 2])\n",
      "w: tensor([[ 0.0577,  0.5585, -0.0907],\n",
      "        [-0.9553,  0.0203, -0.5855],\n",
      "        [ 0.1708,  0.0923,  0.0162],\n",
      "        [ 2.1473, -0.3319,  0.0279],\n",
      "        [-0.0426,  0.4453, -1.1934]])\n",
      "x: tensor([[1., 2.],\n",
      "        [3., 4.],\n",
      "        [5., 6.]])\n"
     ]
    }
   ],
   "source": [
    "w = torch.randn(5,3,dtype=torch.float)\n",
    "x = torch.tensor([[1.0,2.0],[3.0,4.0],[5.0,6.0]])\n",
    "print('w size:', w.size())\n",
    "print('x size:', x.size())\n",
    "print('w:', w)\n",
    "print('x:', x)"
   ]
  },
  {
   "cell_type": "code",
   "execution_count": 5,
   "id": "788a8c3e",
   "metadata": {},
   "outputs": [
    {
     "name": "stdout",
     "output_type": "stream",
     "text": [
      "b: torch.Size([5, 2])\n",
      "b: tensor([[-1.4907, -0.4810],\n",
      "        [-0.5576, -2.2466],\n",
      "        [-0.9163,  1.6829],\n",
      "        [-0.8057, -0.3512],\n",
      "        [ 0.4575, -1.2589]])\n"
     ]
    }
   ],
   "source": [
    "b = torch.randn(5,2, dtype=torch.float)\n",
    "print('b:', b.size())\n",
    "print('b:', b)"
   ]
  },
  {
   "cell_type": "code",
   "execution_count": 7,
   "id": "eff0e2e4",
   "metadata": {},
   "outputs": [
    {
     "name": "stdout",
     "output_type": "stream",
     "text": [
      "wx size: torch.Size([5, 2])\n",
      "w: tensor([[ 0.0577,  0.5585, -0.0907],\n",
      "        [-0.9553,  0.0203, -0.5855],\n",
      "        [ 0.1708,  0.0923,  0.0162],\n",
      "        [ 2.1473, -0.3319,  0.0279],\n",
      "        [-0.0426,  0.4453, -1.1934]])\n"
     ]
    }
   ],
   "source": [
    "wx = torch.mm(w,x)\n",
    "print('wx size:', wx.size())\n",
    "print('w:', w)"
   ]
  },
  {
   "cell_type": "code",
   "execution_count": 8,
   "id": "12bd3ed3",
   "metadata": {
    "scrolled": true
   },
   "outputs": [
    {
     "name": "stdout",
     "output_type": "stream",
     "text": [
      "result size: torch.Size([5, 2])\n",
      "result: tensor([[-0.2111,  1.3241],\n",
      "        [-4.3796, -7.5891],\n",
      "        [-0.3878,  2.4906],\n",
      "        [ 0.4854,  2.7831],\n",
      "        [-4.2162, -6.7233]])\n"
     ]
    }
   ],
   "source": [
    "result = wx + b\n",
    "print('result size:', result.size())\n",
    "print('result:', result)"
   ]
  },
  {
   "cell_type": "code",
   "execution_count": 9,
   "id": "22613a6a",
   "metadata": {},
   "outputs": [
    {
     "name": "stdout",
     "output_type": "stream",
     "text": [
      "tensor(1., requires_grad=True)\n"
     ]
    }
   ],
   "source": [
    "## Autograd\n",
    "\n",
    "# 값이 1.0인 스칼라 텐서 w 정의\n",
    "# w의 requires_grad를 True로 설정하면, 파이토치의 Autograd 기능이 \n",
    "# 자동으로 계산할때 w에 대한 미분값을 w.grad에 저장.\n",
    "w = torch.tensor(1.0, requires_grad=True)\n",
    "print(w)"
   ]
  },
  {
   "cell_type": "code",
   "execution_count": 11,
   "id": "cd13fa43",
   "metadata": {},
   "outputs": [
    {
     "name": "stdout",
     "output_type": "stream",
     "text": [
      "tensor(1., requires_grad=True)\n",
      "tensor(3., grad_fn=<MulBackward0>)\n"
     ]
    }
   ],
   "source": [
    "a = w*3\n",
    "print(w)\n",
    "print(a)"
   ]
  },
  {
   "cell_type": "code",
   "execution_count": 14,
   "id": "25c44915",
   "metadata": {},
   "outputs": [
    {
     "name": "stdout",
     "output_type": "stream",
     "text": [
      "tensor(9., grad_fn=<PowBackward0>)\n"
     ]
    }
   ],
   "source": [
    "l = a**2\n",
    "print(l)"
   ]
  },
  {
   "cell_type": "code",
   "execution_count": 15,
   "id": "9311f0db",
   "metadata": {
    "scrolled": true
   },
   "outputs": [
    {
     "name": "stdout",
     "output_type": "stream",
     "text": [
      "l을 w로 미분한 값은 18.0\n"
     ]
    }
   ],
   "source": [
    "l.backward()\n",
    "print('l을 w로 미분한 값은 {}'.format(w.grad))"
   ]
  },
  {
   "cell_type": "code",
   "execution_count": null,
   "id": "4b90da0d",
   "metadata": {},
   "outputs": [],
   "source": []
  },
  {
   "cell_type": "code",
   "execution_count": null,
   "id": "27d57bdd",
   "metadata": {},
   "outputs": [],
   "source": []
  },
  {
   "cell_type": "code",
   "execution_count": null,
   "id": "22936c7e",
   "metadata": {},
   "outputs": [],
   "source": []
  },
  {
   "cell_type": "code",
   "execution_count": null,
   "id": "f016b77e",
   "metadata": {},
   "outputs": [],
   "source": []
  },
  {
   "cell_type": "code",
   "execution_count": null,
   "id": "2b7e0c70",
   "metadata": {},
   "outputs": [],
   "source": []
  }
 ],
 "metadata": {
  "kernelspec": {
   "display_name": "Python 3",
   "language": "python",
   "name": "python3"
  },
  "language_info": {
   "codemirror_mode": {
    "name": "ipython",
    "version": 3
   },
   "file_extension": ".py",
   "mimetype": "text/x-python",
   "name": "python",
   "nbconvert_exporter": "python",
   "pygments_lexer": "ipython3",
   "version": "3.8.8"
  }
 },
 "nbformat": 4,
 "nbformat_minor": 5
}
