{
 "cells": [
  {
   "cell_type": "code",
   "execution_count": 19,
   "id": "6160c186",
   "metadata": {},
   "outputs": [],
   "source": [
    "import torch\n",
    "import numpy\n",
    "from sklearn.datasets import make_blobs\n",
    "import matplotlib.pyplot as plt\n",
    "import torch.nn.functional as F"
   ]
  },
  {
   "cell_type": "code",
   "execution_count": 15,
   "id": "1d479472",
   "metadata": {},
   "outputs": [],
   "source": [
    "## 데이터셋 생성\n",
    "n_dim = 2\n",
    "x_train, y_train = make_blobs(n_samples=80, n_features=n_dim,\n",
    "                             centers=[[1,1],[-1,-1],[1,-1],[-1,1]],\n",
    "                             shuffle=True, cluster_std=0.3)\n",
    "x_test, y_test = make_blobs(n_samples=20, n_features=n_dim,\n",
    "                             centers=[[1,1],[-1,-1],[1,-1],[-1,1]],\n",
    "                             shuffle=True, cluster_std=0.3)"
   ]
  },
  {
   "cell_type": "code",
   "execution_count": 16,
   "id": "4decfcc5",
   "metadata": {},
   "outputs": [],
   "source": [
    "# 2개의 레이블만 사용할 것이므로 4=>2\n",
    "def label_map(y_, from_, to_):\n",
    "    y = numpy.copy(y_)\n",
    "    for f in from_:\n",
    "        y[y_ == f] = to_\n",
    "    return y\n",
    "\n",
    "y_train = label_map(y_train, [0,1], 0)\n",
    "y_train = label_map(y_train, [2,3], 1)\n",
    "y_test = label_map(y_test, [0,1], 0)\n",
    "y_test = label_map(y_test, [2,3], 1)"
   ]
  },
  {
   "cell_type": "code",
   "execution_count": 20,
   "id": "a17a9aea",
   "metadata": {},
   "outputs": [
    {
     "data": {
      "image/png": "[encoded data removed]",
      "text/plain": [
       "<Figure size 432x288 with 1 Axes>"
      ]
     },
     "metadata": {
      "needs_background": "light"
     },
     "output_type": "display_data"
    }
   ],
   "source": [
    "## 생성된 데이터셋 시각화\n",
    "## 학습 데이터 생성\n",
    "def vis_data(x,y = None, c = 'r'):\n",
    "    if y is None:\n",
    "        y = [None] * len(x)\n",
    "    for x_, y_ in zip(x,y):\n",
    "        if y_ is None:\n",
    "            plt.plot(x_[0], x_[1], '*', markerfacecolor='none', makeredgecolor=c)\n",
    "        else:\n",
    "            plt.plot(x_[0], x_[1], c+'o' if y_ == 0 else c+'+')\n",
    "            \n",
    "    \n",
    "plt.figure()\n",
    "vis_data(x_train, y_train, c='r')\n",
    "plt.show()"
   ]
  },
  {
   "cell_type": "code",
   "execution_count": 30,
   "id": "48d0eacc",
   "metadata": {},
   "outputs": [],
   "source": [
    "## 데이터셋을 파이토치 텐서로 변환\n",
    "x_train = torch.FloatTensor(x_train)\n",
    "x_test = torch.FloatTensor(x_test)\n",
    "y_train = torch.FloatTensor(y_train)\n",
    "y_test = torch.FloatTensor(y_test)"
   ]
  },
  {
   "cell_type": "code",
   "execution_count": 37,
   "id": "d9de381d",
   "metadata": {},
   "outputs": [],
   "source": [
    "## 신경망 모델 정의\n",
    "class NeuralNet(torch.nn.Module):\n",
    "    # input_size는 신경망에 입력되는 데이터의 차원\n",
    "    def __init__(self, input_size, hidden_size):\n",
    "        super(NeuralNet, self).__init__()\n",
    "        self.input_size = input_size\n",
    "        self.hidden_size = hidden_size\n",
    "        # input data가 인공신경망을 통과하면서 거치는 연산들 정의\n",
    "        self.linear_1 = torch.nn.Linear(self.input_size, self.hidden_size)\n",
    "        self.relu = torch.nn.ReLU()\n",
    "        self.linear_2 = torch.nn.Linear(self.hidden_size, 1)\n",
    "        self.sigmoid = torch.nn.Sigmoid()\n",
    "    \n",
    "    def forward(self, input_tensor):\n",
    "        # 입력데이터에 [input_size, hidden_size]크기의 가중치를 행렬곱하고 \n",
    "        # 편향을 더하여 [1, hidden_size] 꼴의 텐서를 반환\n",
    "        linear1 = self.linear_1(input_tensor)\n",
    "        relu = self.relu(linear1)\n",
    "        linear2 = self.linear_2(relu) #[1,1]꼴로 변환\n",
    "        output = self.sigmoid(linear2)\n",
    "        return output"
   ]
  },
  {
   "cell_type": "code",
   "execution_count": 46,
   "id": "bab877ea",
   "metadata": {},
   "outputs": [],
   "source": [
    "## 신경망 모델 생성 및 관련 변수와 알고리즘 정의\n",
    "model = NeuralNet(2,5) #input_size=2, hidden_size=5\n",
    "learning_rate = 0.03 #학습률 지정\n",
    "criterion = torch.nn.BCELoss() #오차함수 준비(?), Binary Cross entropy \n",
    "epochs = 2000 #전체 학습 데이터를 총 몇번 모델에 입력할지 결정하는 변수\n",
    "optimizer = torch.optim.SGD(model.parameters(), lr = learning_rate) #학습에 사용할 최적화 알고리즘 지정"
   ]
  },
  {
   "cell_type": "code",
   "execution_count": 47,
   "id": "1c994538",
   "metadata": {},
   "outputs": [
    {
     "name": "stdout",
     "output_type": "stream",
     "text": [
      "Before Training, test loss is 0.7074838876724243\n"
     ]
    }
   ],
   "source": [
    "# 학습 전 모델 성능 평가\n",
    "model.eval()\n",
    "#모델 결과값과 레이블값의 차원을 맞추기 위해 squeeze()\n",
    "test_loss_before = criterion(model(x_test).squeeze(), y_test)\n",
    "print('Before Training, test loss is {}'.format(test_loss_before.item()))"
   ]
  },
  {
   "cell_type": "code",
   "execution_count": 48,
   "id": "0a4da8b2",
   "metadata": {
    "scrolled": true
   },
   "outputs": [
    {
     "name": "stdout",
     "output_type": "stream",
     "text": [
      "Train loss at 0 is 0.7037522792816162\n",
      "Train loss at 100 is 0.6188663244247437\n",
      "Train loss at 200 is 0.527417778968811\n",
      "Train loss at 300 is 0.4128904342651367\n",
      "Train loss at 400 is 0.30975937843322754\n",
      "Train loss at 500 is 0.23835185170173645\n",
      "Train loss at 600 is 0.19058223068714142\n",
      "Train loss at 700 is 0.15826484560966492\n",
      "Train loss at 800 is 0.13476155698299408\n",
      "Train loss at 900 is 0.1172608956694603\n",
      "Train loss at 1000 is 0.10353275388479233\n",
      "Train loss at 1100 is 0.0924413651227951\n",
      "Train loss at 1200 is 0.08332321047782898\n",
      "Train loss at 1300 is 0.07571648061275482\n",
      "Train loss at 1400 is 0.06930100917816162\n",
      "Train loss at 1500 is 0.06388689577579498\n",
      "Train loss at 1600 is 0.05923141911625862\n",
      "Train loss at 1700 is 0.055210359394550323\n",
      "Train loss at 1800 is 0.05168922618031502\n",
      "Train loss at 1900 is 0.04857787862420082\n"
     ]
    }
   ],
   "source": [
    "## 성능 개선\n",
    "## 신경망 학습\n",
    "for epoch in range(epochs):\n",
    "    model.train() # 학습모드로\n",
    "    optimizer.zero_grad() #epoch마다 새로운 경사값 계산할 수 있도록 0으로 초기화\n",
    "    train_output = model(x_train) #앞서 생성한 모델에 학습 데이터를 입력해 결과값 계산\n",
    "    train_loss = criterion(train_output.squeeze(), y_train) #결과값의 차원을 레이블의 차원과 같게 만들고 오차를 계산\n",
    "    if epoch % 100 == 0:\n",
    "        print('Train loss at {} is {}'.format(epoch, train_loss.item()))\n",
    "    # 역전파\n",
    "    train_loss.backward()\n",
    "    optimizer.step()"
   ]
  },
  {
   "cell_type": "code",
   "execution_count": 49,
   "id": "01f0b04c",
   "metadata": {},
   "outputs": [
    {
     "name": "stdout",
     "output_type": "stream",
     "text": [
      "After Training, test loss is 0.05338757112622261\n"
     ]
    }
   ],
   "source": [
    "## 학습 후 모델 성능 평가\n",
    "model.eval()\n",
    "test_loss = criterion(torch.squeeze(model(x_test)), y_test)\n",
    "print('After Training, test loss is {}'.format(test_loss.item()))"
   ]
  },
  {
   "cell_type": "code",
   "execution_count": 50,
   "id": "f70902c0",
   "metadata": {},
   "outputs": [
    {
     "name": "stdout",
     "output_type": "stream",
     "text": [
      "state_dict format of the model: OrderedDict([('linear_1.weight', tensor([[-1.3405, -1.7894],\n",
      "        [ 2.0021,  1.3637],\n",
      "        [ 0.2666, -0.2740],\n",
      "        [ 0.3385,  0.0368],\n",
      "        [ 1.4241, -1.4696]])), ('linear_1.bias', tensor([-0.0154, -0.3667, -0.5982, -0.6596, -0.0976])), ('linear_2.weight', tensor([[-2.2411, -2.2712, -0.1465,  0.3817,  1.8596]])), ('linear_2.bias', tensor([2.1864]))])\n"
     ]
    }
   ],
   "source": [
    "## 학습된 가중치 저장\n",
    "torch.save(model.state_dict(),'./model.pt')\n",
    "print('state_dict format of the model: {}'.format(model.state_dict()))"
   ]
  },
  {
   "cell_type": "code",
   "execution_count": 51,
   "id": "39dd7575",
   "metadata": {},
   "outputs": [
    {
     "data": {
      "text/plain": [
       "<All keys matched successfully>"
      ]
     },
     "execution_count": 51,
     "metadata": {},
     "output_type": "execute_result"
    }
   ],
   "source": [
    "## 저장된 가중치를 불러와 새로운 모델에 적용(전이 학습)\n",
    "new_model = NeuralNet(2,5)\n",
    "new_model.load_state_dict(torch.load('./model.pt'))"
   ]
  },
  {
   "cell_type": "code",
   "execution_count": 52,
   "id": "7e6a005a",
   "metadata": {},
   "outputs": [
    {
     "name": "stdout",
     "output_type": "stream",
     "text": [
      "벡터 [-1,1]이 레이블 1을 가질 확률은 0.8990219831466675\n"
     ]
    }
   ],
   "source": [
    "new_model.eval()\n",
    "print('벡터 [-1,1]이 레이블 1을 가질 확률은 {}'.format(new_model(torch.FloatTensor([-1,1])).item()))"
   ]
  },
  {
   "cell_type": "code",
   "execution_count": null,
   "id": "0cff47a1",
   "metadata": {},
   "outputs": [],
   "source": []
  },
  {
   "cell_type": "code",
   "execution_count": null,
   "id": "9af0e4ca",
   "metadata": {},
   "outputs": [],
   "source": []
  }
 ],
 "metadata": {
  "kernelspec": {
   "display_name": "Python 3",
   "language": "python",
   "name": "python3"
  },
  "language_info": {
   "codemirror_mode": {
    "name": "ipython",
    "version": 3
   },
   "file_extension": ".py",
   "mimetype": "text/x-python",
   "name": "python",
   "nbconvert_exporter": "python",
   "pygments_lexer": "ipython3",
   "version": "3.8.8"
  }
 },
 "nbformat": 4,
 "nbformat_minor": 5
}
